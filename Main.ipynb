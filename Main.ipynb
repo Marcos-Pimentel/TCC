{
 "cells": [
  {
   "cell_type": "code",
   "execution_count": 3,
   "metadata": {},
   "outputs": [],
   "source": [
    "#imports\n",
    "import json\n",
    "import numpy as np\n",
    "import gurobipy as gp\n",
    "from gurobipy import GRB\n",
    "import networkx as nx\n",
    "import re"
   ]
  },
  {
   "cell_type": "code",
   "execution_count": 4,
   "metadata": {},
   "outputs": [],
   "source": [
    "#Read a JSON file\n",
    "def read_input(file):\n",
    "    content = None\n",
    "    with open(file, \"r\") as arq:\n",
    "        content = json.load(arq)\n",
    "    return content\n",
    "\n",
    "def import_floyd_warshall(filename):\n",
    "    graph = nx.Graph()\n",
    "    with open(filename) as file:\n",
    "        data = json.load(file)\n",
    "    graph.add_edges_from([(int(re.findall(\"(?<!\\d)\\d+(?!\\d)\",x)[0]), int(re.findall(\"(?<!\\d)\\d+(?!\\d)\",x)[1]), data[\"EDGES\"][x]) for x in data[\"EDGES\"].keys() if (re.findall(\"(?<!\\d)\\d+(?!\\d)\",x)[0] <= re.findall(\"(?<!\\d)\\d+(?!\\d)\",x)[1])])\n",
    "    return nx.floyd_warshall_predecessor_and_distance(graph, weight=\"DISTANCE\")[1]"
   ]
  },
  {
   "cell_type": "code",
   "execution_count": 12,
   "metadata": {},
   "outputs": [],
   "source": [
    "#data\n",
    "\n",
    "#read the JSON file\n",
    "input_content = read_input('Test/Lpr-a-01.json')\n",
    "\n",
    "#TOLERANCE (values suggested by Garcia-Ayala's paper)\n",
    "tolerance = (0.1, 0.05)\n",
    "\n",
    "#DEPOTS\n",
    "#list of depots\n",
    "#format: [1, 2, 3]\n",
    "depots = list()\n",
    "for p in input_content['DEPOTS']:\n",
    "    depots.append(int(p))\n",
    "\n",
    "\n",
    "#CAPACITY\n",
    "capacity = int(input_content['CAPACITY'])\n",
    "\n",
    "#VERTICES\n",
    "#list of vertices\n",
    "#format: [1, 2, 3, 4]\n",
    "vertices = list()\n",
    "for i in input_content['NODES'].keys():\n",
    "    vertices.append(int(i))\n",
    "\n",
    "dictionary = dict()\n",
    "\n",
    "for a in input_content['NODES'].keys():\n",
    "    for b in input_content['NODES'][a].keys():\n",
    "        if (int(b),int(a)) not in dictionary.keys():\n",
    "            dictionary[int(a),int(b)] = int(input_content['NODES'][a][b]['DISTANCE']),int(input_content['NODES'][a][b]['DEMAND'])\n",
    "\n",
    "#EDGES\n",
    "#format: (2, 14)\n",
    "#        (2, 3)\n",
    "#DISTANCE\n",
    "#format: {(2, 14): 34, (2, 3): 19}\n",
    "#DEMAND\n",
    "#format: {(2, 14): 240, (2, 3): 137}\n",
    "edges, distance, demand = gp.multidict(dictionary)\n",
    "\n",
    "#EDGES DELTA\n",
    "#dictionary of all the edges that have 'i' as one of its ends\n",
    "#format: {2: [(2, 14), (2, 3), (2, 8)], 14: [(2, 14), (14, 7)]}\n",
    "edges_delta = dict()\n",
    "\n",
    "for i in vertices:\n",
    "    edges_delta[i] = list()\n",
    "    for e in edges:\n",
    "        if e[0] == i or e[1] == i:\n",
    "            edges_delta[i].append(e)\n",
    "\n",
    "#DEPOT VERTEX\n",
    "#tuples that relate a depot to a vertex\n",
    "#format: [(1, 2), (1, 14)]\n",
    "depot_vertex = list()\n",
    "\n",
    "for p in depots:\n",
    "    for i in vertices:\n",
    "        depot_vertex.append((p, i))\n",
    "\n",
    "matrix2 = import_floyd_warshall('Test/Lpr-a-01.json')\n",
    "\n",
    "dictionary = dict()\n",
    "for p in depots:\n",
    "    for e in edges:\n",
    "        dictionary[p,e] = min(matrix2[p][e[0]],matrix2[p][e[1]])\n",
    "\n",
    "\n",
    "#DEPOT EDGE\n",
    "#tuples that relate a depot to an edge\n",
    "#format: ( 1 , (2, 14)  )\n",
    "#        ( 1 , (2, 3)   )\n",
    "#DEPOT DISTANCE\n",
    "#dictionary with the distance between a depot and an edge\n",
    "#format: {(1, (2, 14)): 60, (1, (2, 3)): 41}\n",
    "depot_edge, depot_dist = gp.multidict(dictionary)\n",
    "\n",
    "dictionary = dict()\n",
    "\n",
    "#PARITY LOOSE\n",
    "# list of vertices to assign if a vertex loose its parity or not\n",
    "parity_loose = list()\n",
    "\n",
    "#list of even parity vertices\n",
    "vertices_even = list()\n",
    "#list of odd parity vertices\n",
    "vertices_odd = list()\n",
    "\n",
    "for i in range(len(vertices)+1):\n",
    "    dictionary[i] = 0\n",
    "    if i != 0:\n",
    "        parity_loose.append(i)\n",
    "\n",
    "for e in edges:\n",
    "    dictionary[e[0]] += 1\n",
    "    dictionary[e[1]] += 1\n",
    "\n",
    "for i in range(len(vertices)+1):\n",
    "    if i != 0 and dictionary[i]%2 == 0:\n",
    "        vertices_even.append(i)\n",
    "    elif i != 0 and dictionary[i]%2 == 1:\n",
    "        vertices_odd.append(i)\n",
    "\n",
    "\n",
    "\n",
    "#PARITY\n",
    "parity = list()\n",
    "parity_0 = list()\n",
    "\n",
    "for i in vertices:\n",
    "    for p in depots:\n",
    "        parity.append((i,p))\n",
    "        parity_0.append((i,p))\n"
   ]
  },
  {
   "cell_type": "code",
   "execution_count": null,
   "metadata": {},
   "outputs": [],
   "source": [
    "#declare model\n",
    "model = gp.Model('RAP')"
   ]
  },
  {
   "cell_type": "code",
   "execution_count": null,
   "metadata": {},
   "outputs": [],
   "source": [
    "#decision variables\n",
    "b = model.addVars(depot_dist, name=\"DepotEdgeDistance\")\n",
    "x = model.addVars(depot_edge, vtype=gp.GRB.BINARY, name=\"DepotEdgeAssign\")\n",
    "w = model.addVars(depot_vertex, vtype=gp.GRB.BINARY, name=\"DepotVertexIncident\")\n",
    "z = model.addVars(parity, lb = 0, name = \"Parity\")\n",
    "z_0 = model.addVars(parity_0, vtype=gp.GRB.BINARY, name = \"OddParity\")\n",
    "r = model.addVars(parity_loose, vtype=gp.GRB.BINARY)"
   ]
  },
  {
   "cell_type": "code",
   "execution_count": null,
   "metadata": {},
   "outputs": [],
   "source": [
    "#constrains\n",
    "constrain_2 = model.addConstrs((gp.quicksum(x[p,e] for p in depots) == 1 for e in edges), name='constrain2')\n",
    "# constrain_3 = model.addConstrs((gp.quicksum(x[p,s] for s in edges_sigma) - gp.quicksum(x[p,s] for s in S) >= x[p,e] - len(S) for p in depots for e in edges for S in edges), name='constrain 3')\n",
    "constrain_4 = model.addConstrs((gp.quicksum(x[p,e]*demand[e] for e in edges) <= capacity + tolerance[0] for p in depots), name='constrain4')\n",
    "constrain_5 = model.addConstrs((gp.quicksum(x[p,e]*demand[e] for e in edges) >= capacity - tolerance[0] for p in depots), name='constrain5')\n",
    "constrain_6 = model.addConstrs((gp.quicksum(x[p,e] for e in edges_delta[i]) <= 9999*w[p,i] for p in depots for i in vertices), name='constrain6')\n",
    "constrain_7 = model.addConstrs((gp.quicksum(x[p,e] for e in edges_delta[i]) >= w[p,i] for p in depots for i in vertices), name='constrain7')\n",
    "constrain_8 = model.addConstrs((gp.quicksum(x[p,e] for e in edges_delta[i]) == 2*z[i,p]+z_0[i,p] for p in depots for i in vertices), name='constrain8')\n",
    "constrain_9 = model.addConstrs((gp.quicksum(z_0[i,p] for p in depots) >= r[i] for i in vertices_even), name='constrain9')\n",
    "constrain_10 = model.addConstrs((gp.quicksum(z_0[i,p] for p in depots) <= r[i]*len(depots) for i in vertices_even), name='constrain10')\n",
    "constrain_11 = model.addConstrs((gp.quicksum(z_0[i,p] for p in depots) - 1 >= r[i] for i in vertices_odd), name='constrain11')\n",
    "constrain_12 = model.addConstrs((gp.quicksum(z_0[i,p] for p in depots) - 1 <= r[i]*len(depots) for i in vertices_odd), name='constrain12')\n",
    "constrain_13 = model.addConstr((gp.quicksum(r[i] for i in vertices)/len(vertices) <= tolerance[1]), name='constrain13')\n"
   ]
  },
  {
   "cell_type": "code",
   "execution_count": null,
   "metadata": {},
   "outputs": [],
   "source": [
    "#objective\n",
    "model.setObjective(gp.quicksum(b[p,e]*x[p,e] for e in edges for p in depots), GRB.MINIMIZE)"
   ]
  },
  {
   "cell_type": "code",
   "execution_count": null,
   "metadata": {},
   "outputs": [],
   "source": [
    "#save\n",
    "model.write('RAP.rlp')"
   ]
  },
  {
   "cell_type": "code",
   "execution_count": null,
   "metadata": {},
   "outputs": [],
   "source": [
    "#run\n",
    "model.optimize()"
   ]
  }
 ],
 "metadata": {
  "kernelspec": {
   "display_name": "Python 3.10.7 64-bit",
   "language": "python",
   "name": "python3"
  },
  "language_info": {
   "codemirror_mode": {
    "name": "ipython",
    "version": 3
   },
   "file_extension": ".py",
   "mimetype": "text/x-python",
   "name": "python",
   "nbconvert_exporter": "python",
   "pygments_lexer": "ipython3",
   "version": "3.10.7"
  },
  "orig_nbformat": 4,
  "vscode": {
   "interpreter": {
    "hash": "7c3b49e2688ba5b4f33a7321d5af49802bedf6673f05fd1ebb8ae821ff9e3b38"
   }
  }
 },
 "nbformat": 4,
 "nbformat_minor": 2
}
